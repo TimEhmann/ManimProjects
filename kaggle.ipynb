{
 "cells": [
  {
   "cell_type": "code",
   "execution_count": 17,
   "metadata": {},
   "outputs": [
    {
     "name": "stdout",
     "output_type": "stream",
     "text": [
      "[2, 3]\n",
      "[]\n",
      "[6]\n",
      "[]\n",
      "[4, 5]\n"
     ]
    }
   ],
   "source": [
    "def goodIndices(nums: int, k: int):\n",
    "        if len(nums) <= k*2:\n",
    "            return []\n",
    "        good_is = []\n",
    "        if k == 1:\n",
    "            return [i for i in range(1, len(nums)-1)]\n",
    "        left_score = sum([int(nums[i] < nums[i+1]) for i in range(k-2)])\n",
    "        right_score = sum([int(nums[k+i] > nums[k+i+1]) for i in range(1, k-1)])\n",
    "\n",
    "        for i in range(k, len(nums)-k):\n",
    "            if nums[i-2] < nums[i-1]:\n",
    "                left_score += 1\n",
    "            if nums[i+k-1] > nums[i+k]:\n",
    "                right_score += 1\n",
    "            if left_score == 0 and right_score == 0:\n",
    "                good_is += [i]\n",
    "            \n",
    "            left_score -= int(nums[i-k] < nums[i-k+1])\n",
    "            right_score -= int(nums[i+1] > nums[i+2])\n",
    "            \n",
    "        return good_is\n",
    "\n",
    "print(goodIndices([2,1,1,1,3,4,1], 2))\n",
    "print(goodIndices([2,1,1,2], 2))\n",
    "print(goodIndices([154974,709148,528695,325327,7404,5065,672938,336459,467622,589167,785988], 4))\n",
    "print(goodIndices([388589,17165,726687,401298,600033,537254,301052,151069,399955], 4))\n",
    "print(goodIndices([878724,201541,179099,98437,35765,327555,475851,598885,849470,943442], 4))\n",
    "\n"
   ]
  },
  {
   "cell_type": "code",
   "execution_count": 43,
   "metadata": {},
   "outputs": [
    {
     "name": "stdout",
     "output_type": "stream",
     "text": [
      "True\n",
      "True\n",
      "True\n",
      "True\n",
      "False\n",
      "True\n",
      "False\n",
      "False\n",
      "True\n",
      "True\n",
      "True\n",
      "False\n",
      "False\n",
      "False\n",
      "True\n",
      "False\n",
      "False\n",
      "True\n",
      "False\n",
      "False\n",
      "False\n",
      "False\n",
      "False\n",
      "False\n",
      "False\n",
      "False\n",
      "False\n",
      "False\n",
      "False\n",
      "False\n"
     ]
    }
   ],
   "source": [
    "class MyCalendar:\n",
    "    def __init__(self):\n",
    "        self.timeline = [0]*1000000000\n",
    "\n",
    "    def book1(self, start: int, end: int) -> bool:\n",
    "        for i in range(start, end):\n",
    "            if i in self.booking_set:\n",
    "                return False\n",
    "        self.booking_set = self.booking_set | set(list(range(start, end)))\n",
    "        return True\n",
    "\n",
    "    def book(self, start: int, end:int) -> bool:\n",
    "        for i in range(start, end):\n",
    "            if self.timeline[i] == 2:\n",
    "                for j in range(start, i):\n",
    "                    self.timeline[j] -= 1\n",
    "                return False\n",
    "            self.timeline[i]+=1\n",
    "        return True\n",
    "        \n",
    "\n",
    "obj = MyCalendar()\n",
    "for start,end in [[5,12],[42,50],[4,9],[33,41],[2,7],[16,25],[7,16],[6,11],[13,18],[38,43],[49,50],[6,15],[5,13],[35,42],[19,24],[46,50],[39,44],[28,36],[28,37],[20,29],[41,49],[11,19],[41,46],[28,37],[17,23],[22,31],[4,10],[31,40],[4,12],[19,26]]:\n",
    "    print(obj.book(start,end))"
   ]
  }
 ],
 "metadata": {
  "kernelspec": {
   "display_name": "Python 3",
   "language": "python",
   "name": "python3"
  },
  "language_info": {
   "codemirror_mode": {
    "name": "ipython",
    "version": 3
   },
   "file_extension": ".py",
   "mimetype": "text/x-python",
   "name": "python",
   "nbconvert_exporter": "python",
   "pygments_lexer": "ipython3",
   "version": "3.13.1"
  }
 },
 "nbformat": 4,
 "nbformat_minor": 2
}
